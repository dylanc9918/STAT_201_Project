{
 "cells": [
  {
   "cell_type": "markdown",
   "id": "75057eed-6f2b-44d8-9bda-fa1562af1339",
   "metadata": {
    "tags": []
   },
   "source": [
    "## The Pandemic’s impact on Education: A comparative analysis of student outcomes - Pre and Post Covid-19"
   ]
  },
  {
   "cell_type": "markdown",
   "id": "bc77acbd-829e-451d-8b92-ce65a0e13cd1",
   "metadata": {},
   "source": [
    "### Introduction\n",
    "With the prevalence of COVID-19 leading to extended closures and shutdowns of schools across the world, learning transitioned to mainly in the home. It has led to effects on student learning that has yet to be understood entirely. To examine one aspect, we are looking at the change in students' test scores pre-lockdowns and during lockdowns to better understand the impact remote learning had on students' ability to retain and apply knowledge on exams. We also want to observe if there has been an increase in the spread of student test scores, as some students' household learning will be less affected by the pandemic compared to others. This data analysis is based on the test scores of approximately 1400 middle and high school students from an undisclosed location, before and after the COVID-19 lockdowns. To investigate if there has been an increase in the spread of student test scores, we will look at the standard deviation of test scores pre-lockdown and post-lockdown. We will perform hypothesis testing on mean test scores pre-lockdown and post-lockdown to see if there is a statistically significant difference in test scores.\n",
    "\n",
    "\n",
    "\n"
   ]
  },
  {
   "cell_type": "markdown",
   "id": "7c000b9d-c6a5-4b55-8c3e-6ca09ad6b55b",
   "metadata": {},
   "source": [
    "# Methods and Results "
   ]
  },
  {
   "cell_type": "markdown",
   "id": "404c29de-86d5-470f-b171-ce6e32d386c0",
   "metadata": {},
   "source": [
    "## Initial Data Wrangling and Visualization "
   ]
  },
  {
   "cell_type": "markdown",
   "id": "4ce33cdd-42d9-45ca-bd29-8c22b4b2a463",
   "metadata": {},
   "source": [
    "We began by loading the neccesary packages, reading in our, data and doing some peliminary data wrangling\n",
    "\n"
   ]
  },
  {
   "cell_type": "code",
   "execution_count": 1,
   "id": "93cf329e-da5f-415f-bc4b-608752a6b591",
   "metadata": {
    "tags": []
   },
   "outputs": [
    {
     "name": "stderr",
     "output_type": "stream",
     "text": [
      "Registered S3 method overwritten by 'rvest':\n",
      "  method            from\n",
      "  read_xml.response xml2\n",
      "-- Attaching packages ------------------------------------------------------------------------------- tidyverse 1.2.1 --\n",
      "v ggplot2 3.3.5     v purrr   0.3.4\n",
      "v tibble  3.1.1     v dplyr   1.0.6\n",
      "v tidyr   1.1.3     v stringr 1.4.0\n",
      "v readr   1.3.1     v forcats 0.4.0\n",
      "Warning message:\n",
      "\"package 'tibble' was built under R version 3.6.3\"Warning message:\n",
      "\"package 'tidyr' was built under R version 3.6.3\"Warning message:\n",
      "\"package 'purrr' was built under R version 3.6.3\"Warning message:\n",
      "\"package 'dplyr' was built under R version 3.6.3\"-- Conflicts ---------------------------------------------------------------------------------- tidyverse_conflicts() --\n",
      "x dplyr::filter() masks stats::filter()\n",
      "x dplyr::lag()    masks stats::lag()\n",
      "Parsed with column specification:\n",
      "cols(\n",
      "  studentID = col_double(),\n",
      "  school = col_double(),\n",
      "  gradelevel = col_double(),\n",
      "  gender = col_double(),\n",
      "  covidpos = col_double(),\n",
      "  householdincome = col_double(),\n",
      "  freelunch = col_double(),\n",
      "  numcomputers = col_double(),\n",
      "  familysize = col_double(),\n",
      "  fathereduc = col_double(),\n",
      "  mothereduc = col_double(),\n",
      "  readingscore = col_double(),\n",
      "  writingscore = col_double(),\n",
      "  mathscore = col_double(),\n",
      "  readingscoreSL = col_double(),\n",
      "  writingscoreSL = col_double(),\n",
      "  mathscoreSL = col_double(),\n",
      "  timeperiod = col_double()\n",
      ")\n"
     ]
    },
    {
     "data": {
      "text/html": [
       "<table>\n",
       "<thead><tr><th scope=col>studentID</th><th scope=col>school</th><th scope=col>gradelevel</th><th scope=col>gender</th><th scope=col>covidpos</th><th scope=col>householdincome</th><th scope=col>freelunch</th><th scope=col>numcomputers</th><th scope=col>familysize</th><th scope=col>fathereduc</th><th scope=col>mothereduc</th><th scope=col>readingscore</th><th scope=col>writingscore</th><th scope=col>mathscore</th><th scope=col>readingscoreSL</th><th scope=col>writingscoreSL</th><th scope=col>mathscoreSL</th><th scope=col>timeperiod</th></tr></thead>\n",
       "<tbody>\n",
       "\t<tr><td>1    </td><td>0    </td><td>6    </td><td>1    </td><td>1    </td><td>59065</td><td>0    </td><td>5    </td><td>3    </td><td>1    </td><td>0    </td><td>73   </td><td>69   </td><td>87   </td><td>85   </td><td>83   </td><td>71   </td><td>2    </td></tr>\n",
       "\t<tr><td>1    </td><td>0    </td><td>6    </td><td>1    </td><td>1    </td><td>59065</td><td>0    </td><td>5    </td><td>3    </td><td>1    </td><td>0    </td><td>63   </td><td>73   </td><td>57   </td><td>78   </td><td>75   </td><td>58   </td><td>4    </td></tr>\n",
       "\t<tr><td>1    </td><td>0    </td><td>6    </td><td>1    </td><td>1    </td><td>59065</td><td>0    </td><td>5    </td><td>3    </td><td>1    </td><td>0    </td><td>80   </td><td>67   </td><td>57   </td><td>88   </td><td>80   </td><td>85   </td><td>1    </td></tr>\n",
       "\t<tr><td>1    </td><td>0    </td><td>6    </td><td>1    </td><td>1    </td><td>59065</td><td>0    </td><td>5    </td><td>3    </td><td>1    </td><td>0    </td><td>69   </td><td>56   </td><td>74   </td><td>70   </td><td>48   </td><td>87   </td><td>3    </td></tr>\n",
       "\t<tr><td>1    </td><td>0    </td><td>6    </td><td>1    </td><td>1    </td><td>59065</td><td>0    </td><td>5    </td><td>3    </td><td>1    </td><td>0    </td><td>83   </td><td>87   </td><td>65   </td><td>69   </td><td>86   </td><td>66   </td><td>0    </td></tr>\n",
       "\t<tr><td>1    </td><td>0    </td><td>6    </td><td>1    </td><td>1    </td><td>59065</td><td>0    </td><td>5    </td><td>3    </td><td>1    </td><td>0    </td><td>62   </td><td>37   </td><td>63   </td><td>82   </td><td>78   </td><td>85   </td><td>5    </td></tr>\n",
       "</tbody>\n",
       "</table>\n"
      ],
      "text/latex": [
       "\\begin{tabular}{r|llllllllllllllllll}\n",
       " studentID & school & gradelevel & gender & covidpos & householdincome & freelunch & numcomputers & familysize & fathereduc & mothereduc & readingscore & writingscore & mathscore & readingscoreSL & writingscoreSL & mathscoreSL & timeperiod\\\\\n",
       "\\hline\n",
       "\t 1     & 0     & 6     & 1     & 1     & 59065 & 0     & 5     & 3     & 1     & 0     & 73    & 69    & 87    & 85    & 83    & 71    & 2    \\\\\n",
       "\t 1     & 0     & 6     & 1     & 1     & 59065 & 0     & 5     & 3     & 1     & 0     & 63    & 73    & 57    & 78    & 75    & 58    & 4    \\\\\n",
       "\t 1     & 0     & 6     & 1     & 1     & 59065 & 0     & 5     & 3     & 1     & 0     & 80    & 67    & 57    & 88    & 80    & 85    & 1    \\\\\n",
       "\t 1     & 0     & 6     & 1     & 1     & 59065 & 0     & 5     & 3     & 1     & 0     & 69    & 56    & 74    & 70    & 48    & 87    & 3    \\\\\n",
       "\t 1     & 0     & 6     & 1     & 1     & 59065 & 0     & 5     & 3     & 1     & 0     & 83    & 87    & 65    & 69    & 86    & 66    & 0    \\\\\n",
       "\t 1     & 0     & 6     & 1     & 1     & 59065 & 0     & 5     & 3     & 1     & 0     & 62    & 37    & 63    & 82    & 78    & 85    & 5    \\\\\n",
       "\\end{tabular}\n"
      ],
      "text/markdown": [
       "\n",
       "| studentID | school | gradelevel | gender | covidpos | householdincome | freelunch | numcomputers | familysize | fathereduc | mothereduc | readingscore | writingscore | mathscore | readingscoreSL | writingscoreSL | mathscoreSL | timeperiod |\n",
       "|---|---|---|---|---|---|---|---|---|---|---|---|---|---|---|---|---|---|\n",
       "| 1     | 0     | 6     | 1     | 1     | 59065 | 0     | 5     | 3     | 1     | 0     | 73    | 69    | 87    | 85    | 83    | 71    | 2     |\n",
       "| 1     | 0     | 6     | 1     | 1     | 59065 | 0     | 5     | 3     | 1     | 0     | 63    | 73    | 57    | 78    | 75    | 58    | 4     |\n",
       "| 1     | 0     | 6     | 1     | 1     | 59065 | 0     | 5     | 3     | 1     | 0     | 80    | 67    | 57    | 88    | 80    | 85    | 1     |\n",
       "| 1     | 0     | 6     | 1     | 1     | 59065 | 0     | 5     | 3     | 1     | 0     | 69    | 56    | 74    | 70    | 48    | 87    | 3     |\n",
       "| 1     | 0     | 6     | 1     | 1     | 59065 | 0     | 5     | 3     | 1     | 0     | 83    | 87    | 65    | 69    | 86    | 66    | 0     |\n",
       "| 1     | 0     | 6     | 1     | 1     | 59065 | 0     | 5     | 3     | 1     | 0     | 62    | 37    | 63    | 82    | 78    | 85    | 5     |\n",
       "\n"
      ],
      "text/plain": [
       "  studentID school gradelevel gender covidpos householdincome freelunch\n",
       "1 1         0      6          1      1        59065           0        \n",
       "2 1         0      6          1      1        59065           0        \n",
       "3 1         0      6          1      1        59065           0        \n",
       "4 1         0      6          1      1        59065           0        \n",
       "5 1         0      6          1      1        59065           0        \n",
       "6 1         0      6          1      1        59065           0        \n",
       "  numcomputers familysize fathereduc mothereduc readingscore writingscore\n",
       "1 5            3          1          0          73           69          \n",
       "2 5            3          1          0          63           73          \n",
       "3 5            3          1          0          80           67          \n",
       "4 5            3          1          0          69           56          \n",
       "5 5            3          1          0          83           87          \n",
       "6 5            3          1          0          62           37          \n",
       "  mathscore readingscoreSL writingscoreSL mathscoreSL timeperiod\n",
       "1 87        85             83             71          2         \n",
       "2 57        78             75             58          4         \n",
       "3 57        88             80             85          1         \n",
       "4 74        70             48             87          3         \n",
       "5 65        69             86             66          0         \n",
       "6 63        82             78             85          5         "
      ]
     },
     "metadata": {},
     "output_type": "display_data"
    }
   ],
   "source": [
    "library(digest)\n",
    "library(infer)\n",
    "library(repr)\n",
    "library(tidyverse)\n",
    "library(broom)\n",
    "library(digest)\n",
    "library(readxl)\n",
    "\n",
    "url <- \"https://raw.githubusercontent.com/dylanc9918/STAT_201_Project/main/COVID_data_csv.csv\"\n",
    "\n",
    "covid <- \n",
    "    read_csv(url)\n",
    "head(covid)"
   ]
  },
  {
   "cell_type": "markdown",
   "id": "9cfebce5-3495-4a48-ae21-8977ffc85ca2",
   "metadata": {},
   "source": [
    "<b>Table 1</b> The original data frame that had 17 variables with 1400 students in total. And we decide to pick 4 variables that related to our project, which is the `studentID`,`readingscoreSL`, `writingscoreSL`, `mathscoreSL` and `timeperiod`. We chose to analyze the student test scores on the State Level (SL) tests as this would control for any variability in the tests offered specific to the school and allow this to more applicable to the general student population of the state. In the timeperiod variable, timeperiods 1 -3 indicate assesments that were pre-covid, otherwise, time periods 4-6 indicate assements that were post-covid. To get the mean score of students in these 3 subjects in pre and post covid, we first sum up the math, reading, and writing score into one total summation score for each of the 6 time periods. We then averaged  across the three time periods that were pre and post covid to give us a single score for pre and post covid, and it is shown in <b>Table 2</b>."
   ]
  },
  {
   "cell_type": "code",
   "execution_count": 2,
   "id": "610aa054-f8a9-4f4a-a22b-73c25bcdb427",
   "metadata": {
    "tags": []
   },
   "outputs": [
    {
     "name": "stderr",
     "output_type": "stream",
     "text": [
      "`summarise()` has grouped output by 'studentID'. You can override using the `.groups` argument.\n"
     ]
    },
    {
     "data": {
      "text/html": [
       "<table>\n",
       "<thead><tr><th scope=col>studentID</th><th scope=col>time</th><th scope=col>meanscore</th></tr></thead>\n",
       "<tbody>\n",
       "\t<tr><td>1         </td><td>post_covid</td><td>220.3333  </td></tr>\n",
       "\t<tr><td>1         </td><td>pre_covid </td><td>237.6667  </td></tr>\n",
       "\t<tr><td>2         </td><td>post_covid</td><td>193.3333  </td></tr>\n",
       "\t<tr><td>2         </td><td>pre_covid </td><td>219.3333  </td></tr>\n",
       "\t<tr><td>3         </td><td>post_covid</td><td>200.6667  </td></tr>\n",
       "\t<tr><td>3         </td><td>pre_covid </td><td>247.6667  </td></tr>\n",
       "</tbody>\n",
       "</table>\n"
      ],
      "text/latex": [
       "\\begin{tabular}{r|lll}\n",
       " studentID & time & meanscore\\\\\n",
       "\\hline\n",
       "\t 1            & post\\_covid & 220.3333    \\\\\n",
       "\t 1            & pre\\_covid  & 237.6667    \\\\\n",
       "\t 2            & post\\_covid & 193.3333    \\\\\n",
       "\t 2            & pre\\_covid  & 219.3333    \\\\\n",
       "\t 3            & post\\_covid & 200.6667    \\\\\n",
       "\t 3            & pre\\_covid  & 247.6667    \\\\\n",
       "\\end{tabular}\n"
      ],
      "text/markdown": [
       "\n",
       "| studentID | time | meanscore |\n",
       "|---|---|---|\n",
       "| 1          | post_covid | 220.3333   |\n",
       "| 1          | pre_covid  | 237.6667   |\n",
       "| 2          | post_covid | 193.3333   |\n",
       "| 2          | pre_covid  | 219.3333   |\n",
       "| 3          | post_covid | 200.6667   |\n",
       "| 3          | pre_covid  | 247.6667   |\n",
       "\n"
      ],
      "text/plain": [
       "  studentID time       meanscore\n",
       "1 1         post_covid 220.3333 \n",
       "2 1         pre_covid  237.6667 \n",
       "3 2         post_covid 193.3333 \n",
       "4 2         pre_covid  219.3333 \n",
       "5 3         post_covid 200.6667 \n",
       "6 3         pre_covid  247.6667 "
      ]
     },
     "metadata": {},
     "output_type": "display_data"
    }
   ],
   "source": [
    "covid_n <- covid %>%\n",
    "#changing timeperiod to either 0 or 1, 0 represents pre-COVID and 1 represents post-COVID\n",
    "mutate(timeperiod = as.integer(timeperiod / 3))%>%\n",
    "mutate(time = ifelse(timeperiod < 1, \"pre_covid\",\"post_covid\"))%>%\n",
    "\n",
    "# we only want these 5 column\n",
    "select(\"studentID\", \"readingscoreSL\", \"writingscoreSL\", \"mathscoreSL\", \"time\")%>%\n",
    "\n",
    "#creating a new column that summary of students' average of all score of the state level test\n",
    "mutate(scoresumSL = (readingscoreSL + writingscoreSL + mathscoreSL))%>% \n",
    "\n",
    "\n",
    "#group by student and the time period \n",
    "group_by(studentID, time)%>%\n",
    "\n",
    "# mean of all test scores taken across the three measures for each time period\n",
    "summarize(meanscore = mean(scoresumSL)) \n",
    "\n",
    "head(covid_n)"
   ]
  },
  {
   "cell_type": "markdown",
   "id": "d22a42b7-de3c-4f5a-8616-fd98c9715ea6",
   "metadata": {},
   "source": [
    "<b>Table 2</b> Table containing mean scores for each student on the state level tests pre and post covid."
   ]
  },
  {
   "cell_type": "code",
   "execution_count": 3,
   "id": "872b3ea8-29ff-4609-bbcc-3f4d349a1a09",
   "metadata": {
    "tags": []
   },
   "outputs": [
    {
     "data": {
      "text/html": [
       "<table>\n",
       "<thead><tr><th scope=col>studentID</th><th scope=col>post_covid</th><th scope=col>pre_covid</th></tr></thead>\n",
       "<tbody>\n",
       "\t<tr><td>1       </td><td>220.3333</td><td>237.6667</td></tr>\n",
       "\t<tr><td>2       </td><td>193.3333</td><td>219.3333</td></tr>\n",
       "\t<tr><td>3       </td><td>200.6667</td><td>247.6667</td></tr>\n",
       "\t<tr><td>4       </td><td>223.6667</td><td>255.0000</td></tr>\n",
       "\t<tr><td>5       </td><td>190.0000</td><td>238.3333</td></tr>\n",
       "\t<tr><td>6       </td><td>238.3333</td><td>265.3333</td></tr>\n",
       "</tbody>\n",
       "</table>\n"
      ],
      "text/latex": [
       "\\begin{tabular}{r|lll}\n",
       " studentID & post\\_covid & pre\\_covid\\\\\n",
       "\\hline\n",
       "\t 1        & 220.3333 & 237.6667\\\\\n",
       "\t 2        & 193.3333 & 219.3333\\\\\n",
       "\t 3        & 200.6667 & 247.6667\\\\\n",
       "\t 4        & 223.6667 & 255.0000\\\\\n",
       "\t 5        & 190.0000 & 238.3333\\\\\n",
       "\t 6        & 238.3333 & 265.3333\\\\\n",
       "\\end{tabular}\n"
      ],
      "text/markdown": [
       "\n",
       "| studentID | post_covid | pre_covid |\n",
       "|---|---|---|\n",
       "| 1        | 220.3333 | 237.6667 |\n",
       "| 2        | 193.3333 | 219.3333 |\n",
       "| 3        | 200.6667 | 247.6667 |\n",
       "| 4        | 223.6667 | 255.0000 |\n",
       "| 5        | 190.0000 | 238.3333 |\n",
       "| 6        | 238.3333 | 265.3333 |\n",
       "\n"
      ],
      "text/plain": [
       "  studentID post_covid pre_covid\n",
       "1 1         220.3333   237.6667 \n",
       "2 2         193.3333   219.3333 \n",
       "3 3         200.6667   247.6667 \n",
       "4 4         223.6667   255.0000 \n",
       "5 5         190.0000   238.3333 \n",
       "6 6         238.3333   265.3333 "
      ]
     },
     "metadata": {},
     "output_type": "display_data"
    }
   ],
   "source": [
    "\n",
    "#pivots dataframe wider so contains columns pre and post covid with associated values\n",
    "covid_wider <- pivot_wider(covid_n, names_from = time , values_from = meanscore)\n",
    "\n",
    "head(covid_wider)\n",
    "\n",
    "#extracts columns for pre-covid\n",
    "covid_pre <- covid_wider%>%\n",
    "    ungroup()%>%\n",
    "    select(pre_covid)\n",
    "\n",
    "\n",
    "#extracts columns for post-covid\n",
    "covid_post <- covid_wider%>%\n",
    "    ungroup()%>%\n",
    "    select(post_covid)\n"
   ]
  },
  {
   "cell_type": "markdown",
   "id": "c91fdd87-39d1-45c5-9a88-376bfb2df68f",
   "metadata": {},
   "source": [
    "<b>Table 3</b> Result from pivoting table 2 wider in order to have separate columns for pre and post covid for easier readability and to make future bootstrapping easier "
   ]
  },
  {
   "cell_type": "code",
   "execution_count": 4,
   "id": "8cfe1c56-173a-40d4-94c0-607d166dea90",
   "metadata": {},
   "outputs": [
    {
     "data": {
      "text/html": [
       "<table>\n",
       "<thead><tr><th scope=col>time</th><th scope=col>n</th><th scope=col>Mean</th><th scope=col>Variance</th><th scope=col>Median</th><th scope=col>Min</th><th scope=col>Max</th></tr></thead>\n",
       "<tbody>\n",
       "\t<tr><td>post_covid</td><td>1400      </td><td>203.0838  </td><td>462.8237  </td><td>203.3333  </td><td>145.6667  </td><td>261       </td></tr>\n",
       "\t<tr><td>pre_covid </td><td>1400      </td><td>227.1050  </td><td>473.4412  </td><td>227.6667  </td><td>165.6667  </td><td>283       </td></tr>\n",
       "</tbody>\n",
       "</table>\n"
      ],
      "text/latex": [
       "\\begin{tabular}{r|lllllll}\n",
       " time & n & Mean & Variance & Median & Min & Max\\\\\n",
       "\\hline\n",
       "\t post\\_covid & 1400         & 203.0838     & 462.8237     & 203.3333     & 145.6667     & 261         \\\\\n",
       "\t pre\\_covid  & 1400         & 227.1050     & 473.4412     & 227.6667     & 165.6667     & 283         \\\\\n",
       "\\end{tabular}\n"
      ],
      "text/markdown": [
       "\n",
       "| time | n | Mean | Variance | Median | Min | Max |\n",
       "|---|---|---|---|---|---|---|\n",
       "| post_covid | 1400       | 203.0838   | 462.8237   | 203.3333   | 145.6667   | 261        |\n",
       "| pre_covid  | 1400       | 227.1050   | 473.4412   | 227.6667   | 165.6667   | 283        |\n",
       "\n"
      ],
      "text/plain": [
       "  time       n    Mean     Variance Median   Min      Max\n",
       "1 post_covid 1400 203.0838 462.8237 203.3333 145.6667 261\n",
       "2 pre_covid  1400 227.1050 473.4412 227.6667 165.6667 283"
      ]
     },
     "metadata": {},
     "output_type": "display_data"
    }
   ],
   "source": [
    "covid_wider_summary<- covid_n %>%\n",
    "ungroup()%>%\n",
    "group_by(time)%>%\n",
    "summarize(n=n(), Mean = mean(meanscore),Variance= var(meanscore), Median= median(meanscore),Min=min(meanscore),Max=max(meanscore))\n",
    "\n",
    "\n",
    "covid_wider_summary\n"
   ]
  },
  {
   "cell_type": "markdown",
   "id": "8d4a7f57-b3e8-40d8-b237-2be428c526dd",
   "metadata": {},
   "source": [
    "<b>Table 4</b> Showing the number of students, the mean, variance, median, minimum, and maximum of test scores for both pre and post covid"
   ]
  },
  {
   "cell_type": "code",
   "execution_count": 5,
   "id": "4638651e-1dc2-4400-b695-b3d64ad39a0c",
   "metadata": {
    "tags": []
   },
   "outputs": [
    {
     "data": {
      "image/png": "[encoded data removed]",
      "text/plain": [
       "plot without title"
      ]
     },
     "metadata": {},
     "output_type": "display_data"
    }
   ],
   "source": [
    "options(repr.plot.width = 20,repr.plot.height = 15)\n",
    "covid_samp_dist_plot <-\n",
    "    covid_n %>%\n",
    "    ggplot() +\n",
    "    geom_histogram(aes(x = meanscore, fill = factor(time,levels = c(\"pre_covid\",\"post_covid\"))), binwidth = 2) +\n",
    "    scale_fill_manual(values = c(\"blue\", \"red\")) +\n",
    "    facet_wrap(~ factor(time,levels = c(\"pre_covid\",\"post_covid\"))) +\n",
    "    xlab(\"Mean Value of State Test Score\")+\n",
    "    ggtitle(\"Figure 1: Distribution of State Test Scores Pre and Post Covid\")+\n",
    "    theme(text = element_text(size = 30),plot.title = element_text(hjust = 0.5),\n",
    "    legend.position = \"none\")\n",
    "covid_samp_dist_plot"
   ]
  },
  {
   "cell_type": "code",
   "execution_count": 11,
   "id": "7b66835a-8c04-4692-90ee-2d6fab9ac4c4",
   "metadata": {
    "tags": []
   },
   "outputs": [
    {
     "data": {
      "image/png": "[encoded data removed]",
      "text/plain": [
       "plot without title"
      ]
     },
     "metadata": {},
     "output_type": "display_data"
    }
   ],
   "source": [
    "\n",
    "\n",
    "#create a box plot of distribution pre and post covid\n",
    "\n",
    "covid_boxplot <- covid_n %>%\n",
    "    ggplot(aes(x = factor(time, levels = c(\"pre_covid\", \"post_covid\")), y = meanscore, \n",
    "               fill = factor(time, levels = c(\"pre_covid\", \"post_covid\")))) +\n",
    "    geom_boxplot() +\n",
    "    scale_fill_manual(values = c(\"pre_covid\" = \"blue\", \"post_covid\" = \"red\")) +\n",
    "    xlab(\"Time period\") +\n",
    "    ylab(\"Mean Value of State Test Score\") +\n",
    "    ggtitle(\"Boxplot of State Test Scores Pre and Post Covid\") +\n",
    "    theme(text = element_text(size = 30), plot.title = element_text(hjust = 0.5),\n",
    "    legend.position = \"none\")+\n",
    "    scale_x_discrete(labels=c(\"Pre-Covid\", \"Post-Covid\"))\n",
    "\n",
    "covid_boxplot"
   ]
  },
  {
   "cell_type": "markdown",
   "id": "1078ea05-7288-44a7-914e-93fca0356f1f",
   "metadata": {},
   "source": [
    "<b>Figure 1</b> is a histogram visualizalize of the distributions of mean state test score in pre and post covid period. The pre-covid and post-covid graphs are both in unimodel without skew. The values on the x axis are the mean test scores that were computed as outlined above for each the students pre and post covid and the count is shown on the y-axis. \n",
    "<b>Figure 2</b> is a boxplot also shows the distributions of mean state test score in pre and post covid period. It shows that that the median of the state test scores is different in pre and post covid. As these populations are made up of the same students pre and post covid, this is a dependent population. We are interested in finding the difference between student average score perforance before and after covid. We decide to use paired t-test with degrees of freedom of 1399 (one less than our population of 1400 students) to compute our analysis. From the preliminary analysis result from  <b>table 3</b>, <b>Figure 1</b> and <b>Figure 2</b>, we could see that there is both a difference in mean score with pre and post covid scores \n",
    "203.0838 and 227.1050 respectively, and variance with pre and post covid scores variance of 473.4412 and 462.8237 respectively. \n"
   ]
  },
  {
   "cell_type": "markdown",
   "id": "85886503-fbca-4dc8-864f-0a2551851e0e",
   "metadata": {},
   "source": [
    "## Methods"
   ]
  },
  {
   "cell_type": "markdown",
   "id": "db4a814a-9ef0-4c10-8f7f-626f7895516d",
   "metadata": {},
   "source": [
    "From our sample data, the mean difference in state test score in pre and post covid period is our point estimate and through the use of a paired t.test we could determine if this difference is significant based on the returned p-value."
   ]
  },
  {
   "cell_type": "code",
   "execution_count": 7,
   "id": "1de2cbc4-3e46-4203-9658-5177507c8337",
   "metadata": {
    "tags": []
   },
   "outputs": [
    {
     "data": {
      "text/plain": [
       "\n",
       "\tPaired t-test\n",
       "\n",
       "data:  covid_wider$pre_covid and covid_wider$post_covid\n",
       "t = 56.842, df = 1399, p-value < 2.2e-16\n",
       "alternative hypothesis: true difference in means is not equal to 0\n",
       "95 percent confidence interval:\n",
       " 23.19220 24.85018\n",
       "sample estimates:\n",
       "mean of the differences \n",
       "               24.02119 \n"
      ]
     },
     "metadata": {},
     "output_type": "display_data"
    },
    {
     "name": "stdout",
     "output_type": "stream",
     "text": [
      "[1] 0\n"
     ]
    }
   ],
   "source": [
    "# perform a paired t-test on pre and post covid means to see if there is a statistically signfigant difference between the two of them\n",
    "covid_mean <- t.test(covid_wider$pre_covid, covid_wider$post_covid, paired = TRUE, alternative = \"two.sided\")\n",
    "\n",
    "covid_mean\n",
    "#extract the p-value\n",
    "print(covid_mean$p.value)"
   ]
  },
  {
   "cell_type": "markdown",
   "id": "2a96664d-9d98-4e90-9c0f-cfc6d560eecf",
   "metadata": {},
   "source": [
    "From this analysis we can see that our returned p-value based on this test statistic is so low that R is unable to represent it with a number hence the return of the number 0. This would indicate a significant difference in test scores between pre and post covid allowing us to reject the null hypothesis that there is no difference.\n",
    "\n",
    "\n",
    "In order to analysis our variance we would be using a two-way ANOVA test. This would allow us to study the impact our two groups (pre and post covid) have on the variable being studied, test scores. Using a two way ANOVA test we would calculate the F-statistic which assumes a normal distribution which from our Figure 1 we can see that both our populations roughly follow."
   ]
  },
  {
   "cell_type": "code",
   "execution_count": 8,
   "id": "1eab5745-27cd-4e5c-aeea-db50e8d9265e",
   "metadata": {
    "tags": []
   },
   "outputs": [
    {
     "data": {
      "text/plain": [
       "              Df  Sum Sq Mean Sq F value Pr(>F)    \n",
       "time           1  403912  403912   862.8 <2e-16 ***\n",
       "Residuals   2798 1309835     468                   \n",
       "---\n",
       "Signif. codes:  0 '***' 0.001 '**' 0.01 '*' 0.05 '.' 0.1 ' ' 1"
      ]
     },
     "metadata": {},
     "output_type": "display_data"
    },
    {
     "data": {
      "text/html": [
       "1.53539335474147e-165"
      ],
      "text/latex": [
       "1.53539335474147e-165"
      ],
      "text/markdown": [
       "1.53539335474147e-165"
      ],
      "text/plain": [
       "[1] 1.535393e-165"
      ]
     },
     "metadata": {},
     "output_type": "display_data"
    }
   ],
   "source": [
    "#performed a F-test on variance to see if they are statitistically signfigant in difference \n",
    "aov_model <- aov(meanscore ~ time, data = covid_n)\n",
    "summary(aov_model)\n",
    "summary(aov_model)[[1]][[\"Pr(>F)\"]][1]\n",
    "\n"
   ]
  },
  {
   "cell_type": "markdown",
   "id": "1ca3e47a-ebcc-430a-a6d0-483f7ab00a29",
   "metadata": {},
   "source": [
    "Calculating the p-value associated with the F-statisic above we can see that its extremely small and many magnitudes below our alpha value. Meaning that we can reject our null hypothesis that there is no difference in measured variance. "
   ]
  },
  {
   "cell_type": "markdown",
   "id": "a367ce40-c417-4c10-b49a-edf8887bdcdb",
   "metadata": {},
   "source": [
    "### Bootstrapping"
   ]
  },
  {
   "cell_type": "markdown",
   "id": "8605cca1-4788-47d7-a876-609cf35fdf85",
   "metadata": {},
   "source": [
    "After determining that there was statistically significant difference in both the mean and variance of our two populations we performed bootstrapping in order to obtain confidence intervals that would allow us to give an estimated range of the true population parameter. As we are only dealing with one sample for this analysis bootstrapping would allow us to recreate the resampling of our population from our original population and give us a range of possible values. Using bootstrapping, there is no need to assume that our observations, or the underlying populations, are normally distributed. Thanks to the Central Limit Theorem, the resampling distribution of the effect size will approach a normality. Using the infer package we created 1000 resamples from which we created 95% confidence intervals for our difference in means between the two populations. "
   ]
  },
  {
   "cell_type": "code",
   "execution_count": 9,
   "id": "ee4753d1-50e0-40c5-8169-e4d37fe2ab7e",
   "metadata": {
    "tags": []
   },
   "outputs": [
    {
     "data": {
      "text/html": [
       "<table>\n",
       "<thead><tr><th scope=col>lower_ci</th><th scope=col>upper_ci</th></tr></thead>\n",
       "<tbody>\n",
       "\t<tr><td>22.37414</td><td>25.60643</td></tr>\n",
       "</tbody>\n",
       "</table>\n"
      ],
      "text/latex": [
       "\\begin{tabular}{r|ll}\n",
       " lower\\_ci & upper\\_ci\\\\\n",
       "\\hline\n",
       "\t 22.37414 & 25.60643\\\\\n",
       "\\end{tabular}\n"
      ],
      "text/markdown": [
       "\n",
       "| lower_ci | upper_ci |\n",
       "|---|---|\n",
       "| 22.37414 | 25.60643 |\n",
       "\n"
      ],
      "text/plain": [
       "  lower_ci upper_ci\n",
       "1 22.37414 25.60643"
      ]
     },
     "metadata": {},
     "output_type": "display_data"
    }
   ],
   "source": [
    "#perform bootstrapping on paired population to find CI in mean\n",
    "set.seed(514)\n",
    "\n",
    "bootstrap_mean <- covid_n %>% \n",
    "  specify(formula = meanscore ~ time) %>% \n",
    "  hypothesize(null = \"independence\") %>% \n",
    "  generate(reps = 1000, type = \"bootstrap\") %>% \n",
    "  calculate(stat = \"diff in means\", order = c(\"pre_covid\", \"post_covid\"))%>%\n",
    "    get_confidence_interval(level = 0.95, type = \"percentile\")\n",
    "bootstrap_mean\n",
    "\n",
    "\n",
    "\n"
   ]
  },
  {
   "cell_type": "markdown",
   "id": "175221dc-cfa3-48c3-9963-0a276d35f118",
   "metadata": {},
   "source": [
    "From our bootstrap analysis we generated 95% confidence interval of 22.374 to 25.606 difference in means between pre-covid minus post-covid (i.e pre-covid had higher mean test scores than post-covid). The 95% indicates that any such confidence interval will capture the population mean difference 95% of the time. In other words, if we repeated our experiment 100 times, gathering 100 independent sets of observations, and computing a 95% CI for the mean difference each time, 95 of these confidence intervals would capture the population mean difference.\n",
    "\n",
    "We repeat the same process for our analysis of variance this time we use rep_sample_n to resample our two separate populations of pre-covid and post-covid test scores that we created earlier. In order to study the difference in variance of our two populations we were unable to use the infer package and would have to rely on creating individual bootstrapping samplings of each population. We then calculated the variance of each replicate in the bootstrap sampling of the two populations. With these populations and their variance calculated we could perform a t.test to calculate the 95% CI. The t.test was performed with the conditions specifying that this was a paired populaton with paired = TRUE and that the alternative hypothesis was \"two.sided\" as our altnerative was that they were not equal to eachother (CI does not need to be specified as the default is 95%)."
   ]
  },
  {
   "cell_type": "code",
   "execution_count": 10,
   "id": "09ccae2a-4d52-48ac-bb31-92c0a773ea0a",
   "metadata": {
    "tags": []
   },
   "outputs": [
    {
     "data": {
      "text/html": [
       "<ol class=list-inline>\n",
       "\t<li>8.034389536496</li>\n",
       "\t<li>10.5393001841662</li>\n",
       "</ol>\n"
      ],
      "text/latex": [
       "\\begin{enumerate*}\n",
       "\\item 8.034389536496\n",
       "\\item 10.5393001841662\n",
       "\\end{enumerate*}\n"
      ],
      "text/markdown": [
       "1. 8.034389536496\n",
       "2. 10.5393001841662\n",
       "\n",
       "\n"
      ],
      "text/plain": [
       "[1]  8.03439 10.53930\n",
       "attr(,\"conf.level\")\n",
       "[1] 0.95"
      ]
     },
     "metadata": {},
     "output_type": "display_data"
    }
   ],
   "source": [
    "# #perform bootstrapping on pre-covid and calculate variance of all replicates\n",
    "set.seed(514)\n",
    "\n",
    "bootstrap_pre <- covid_pre %>% \n",
    "    rep_sample_n(size = nrow(covid_pre), reps = 1000, replace = TRUE)%>%\n",
    "    group_by(replicate) %>% \n",
    "    summarize(boot_var = var(pre_covid))\n",
    "\n",
    "\n",
    "# #perform bootstrapping on post-covid and calculate variance of all replicates\n",
    "bootstrap_post <- covid_post %>% \n",
    "    rep_sample_n(size = nrow(covid_post), reps = 1000, replace = TRUE)%>%\n",
    "    group_by(replicate) %>% \n",
    "    summarize(boot_var = var(post_covid))\n",
    "\n",
    "#perform a t-test on parired populations after bootstrapping\n",
    "covid_var <- t.test(bootstrap_pre$boot_var, bootstrap_post$boot_var, paired = TRUE, alternative = \"two.sided\")\n",
    "\n",
    "covid_var$conf"
   ]
  },
  {
   "cell_type": "markdown",
   "id": "7087dc88-4169-4742-a3dd-a840f63bc356",
   "metadata": {},
   "source": [
    "From this analysis we can see that the 95% CI for our differences in variances is 8.034 - 10.539 for pre-covid minus post-covid (i.e pre-covid had higher variances than post-covid)."
   ]
  },
  {
   "cell_type": "markdown",
   "id": "517ee227-48f7-4f64-811a-8a6a6f53fe53",
   "metadata": {},
   "source": [
    "### Discussion "
   ]
  },
  {
   "cell_type": "markdown",
   "id": "6b94d659-105e-4014-bee8-266f85791f8f",
   "metadata": {},
   "source": [
    "Based on the above data and results under 95% confidence interval, we find that COVID has a great impact on students' state exam grades in middle school and high school. Average students' state exam grades has significantly decreased 24.02 points after COVID-19 lockdown happened and study mode switched from in-person to online. Also, the variance of students' grades also increased after covid, which means the difference between students has been enlarged. These two results scientifically indicates that online learning has a negatively affected students on their study, by not only lowering students grades on average(which means the majority of students has been impacted), but also make the difference between students even larger than before(the weaker students are now harder to catch up). Based on what we found, we can warn people that the teaching method or the learning method we used at COVID-19 lockdown was not efficient, and realtive changes should be made in advance to provide a better teaching and learning environment before next similar event happens.\n",
    "\n",
    "Our finding basically conform to what we expected before the project, since there are lots of study shoulded that COVID-19 lockdown has a negative effect on students learning experience and outcome, our study scientifically proves this point from the aspect of data analysis. However, the result shows that COVID-19 lockdown has a even larger impact on students grade than what the previous study's result and what we expected.\n",
    "\n",
    "Our study is just a beginning of the topic on COVID-19's impact on students' study experience, many future questions can be addressed from what we found. Since COVID-19 lockdown has negative effect on students' grades, which subject is impacted most severely? When students get used to this study mode, will their grades improve back to what there were before COVID-19? Does different COVID-19 policies in different schools further affects students grades? \n",
    "\n",
    "\n",
    "\n",
    "\n",
    "\n",
    "The benefits of this report are that we have a relatively large sample size to work with 1400 students in total, for this sufficiently large sample size we can assume under CLT that our distribution is approximately normal, and under this assumption, we can calculate our z-score to determine if our difference in means is statistically significant. In addition, the tests are standardized across all students for all schools as every school takes the same state test, which will control for any differences between tests at different schools. Our current plots and summaries are a good start to visualizing our distribution and mean for our two categories, but this is insufficient for determining if our findings are significant. \n",
    "\n",
    "Under a null hypothesis that there is no difference (with an alternate hypothesis that the means are different) we will use the normal distribution to determine if the difference in our means is statistically significant under a 5% significance level. Should we find a statistically significant difference in means we will perform bootstrapping to construct confidence intervals that will give us a range of reasonable values for our difference in means under a 95% confidence interval. Additional research has already been performed on this topic in 2022 Brown University surveyed 5.4 million U.S. primary students' performance, and showed a decrease of 0.2-0.27 standard deviations in maths scores and 0.09-0.18 standard deviation decrease in reading scores from 2019 to 2021 (Kuhfeld et al. 2022). That same study also found a widening gap in the achievements of poverty stricken students compared to their wealthier peers. \n",
    "\n",
    "We hope to add our own findings on this and share more information about how students test scores have changed in the aftermath of lockdowns and transition to more remote learning. This findings could force us to reevaluate how students learn and to implement new strategies that allow all students even footing to learn even from home. This will beg the question if it is possible for all students to receive an adequate education from home or if in person in school is the only path forward for student progress\n",
    "\n",
    "\n",
    "\n",
    "We input the seed() function at the coding section's first row to ensure the data is reproducible"
   ]
  },
  {
   "cell_type": "markdown",
   "id": "f7b4f6f8-69a0-44d9-bc75-a07797bce55c",
   "metadata": {},
   "source": [
    "### References\n",
    "- BOLLARD, D.Y.L.A.N. (no date) COVID-19 Effect on Grades. Available at: https://www.kaggle.com/datasets/dylanbollard/covid19-effect-on-grades-constructed-dataset?resource=download. \n",
    "- Kuhfeld, M., Soland, J. and Lewis, K. (2022) COVID-19 Effect on Grades [Preprint]. Available at: https://doi.org/Soland, J., Lewis, K., & Kuhfeld, M. (2022). (rep.). Test Score Patterns Across Three COVID-19-impacted School Years (Vol. 29). Portland, OR. . \n",
    "- Al Shaibani, T. et al. (2021) “Impact of COVID-19 pandemic on students’ performance in a problem-based learning system: comparative study between face-to-face-and virtual learning,” 9. Available at: https://doi.org/file:///Users/apple/Downloads/Impact_of_COVID-19_pandemic_on_students_performan.pdf. \n"
   ]
  },
  {
   "cell_type": "code",
   "execution_count": null,
   "id": "436f1587-6184-4948-bce5-e9e891eeb84d",
   "metadata": {},
   "outputs": [],
   "source": []
  },
  {
   "cell_type": "code",
   "execution_count": null,
   "id": "99f35a3e-0b5a-4d6d-a77a-c0e2486cee65",
   "metadata": {},
   "outputs": [],
   "source": []
  },
  {
   "cell_type": "code",
   "execution_count": null,
   "id": "5e9c6f4f-26de-483d-8276-8ecc2144cb04",
   "metadata": {},
   "outputs": [],
   "source": []
  },
  {
   "cell_type": "code",
   "execution_count": null,
   "id": "e4b6f04e-ccc3-480f-b2df-b06e171d6215",
   "metadata": {},
   "outputs": [],
   "source": []
  }
 ],
 "metadata": {
  "kernelspec": {
   "display_name": "R",
   "language": "R",
   "name": "ir"
  },
  "language_info": {
   "codemirror_mode": "r",
   "file_extension": ".r",
   "mimetype": "text/x-r-source",
   "name": "R",
   "pygments_lexer": "r",
   "version": "3.6.1"
  }
 },
 "nbformat": 4,
 "nbformat_minor": 5
}
