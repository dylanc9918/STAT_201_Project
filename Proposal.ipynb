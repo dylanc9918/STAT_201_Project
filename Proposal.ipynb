{
 "cells": [
  {
   "cell_type": "code",
   "execution_count": 5,
   "id": "1435b0c3-7bcc-42d1-a0cd-aa47dc169e48",
   "metadata": {},
   "outputs": [
    {
     "name": "stderr",
     "output_type": "stream",
     "text": [
      "── \u001b[1mAttaching packages\u001b[22m ─────────────────────────────────────── tidyverse 1.3.1 ──\n",
      "\n",
      "\u001b[32m✔\u001b[39m \u001b[34mggplot2\u001b[39m 3.3.6     \u001b[32m✔\u001b[39m \u001b[34mpurrr  \u001b[39m 0.3.4\n",
      "\u001b[32m✔\u001b[39m \u001b[34mtibble \u001b[39m 3.1.8     \u001b[32m✔\u001b[39m \u001b[34mdplyr  \u001b[39m 1.0.9\n",
      "\u001b[32m✔\u001b[39m \u001b[34mtidyr  \u001b[39m 1.2.0     \u001b[32m✔\u001b[39m \u001b[34mstringr\u001b[39m 1.4.0\n",
      "\u001b[32m✔\u001b[39m \u001b[34mreadr  \u001b[39m 2.1.2     \u001b[32m✔\u001b[39m \u001b[34mforcats\u001b[39m 0.5.1\n",
      "\n",
      "Warning message:\n",
      "“package ‘ggplot2’ was built under R version 4.1.3”\n",
      "Warning message:\n",
      "“package ‘tidyr’ was built under R version 4.1.2”\n",
      "Warning message:\n",
      "“package ‘readr’ was built under R version 4.1.2”\n",
      "Warning message:\n",
      "“package ‘dplyr’ was built under R version 4.1.3”\n",
      "── \u001b[1mConflicts\u001b[22m ────────────────────────────────────────── tidyverse_conflicts() ──\n",
      "\u001b[31m✖\u001b[39m \u001b[34mdplyr\u001b[39m::\u001b[32mfilter()\u001b[39m masks \u001b[34mstats\u001b[39m::filter()\n",
      "\u001b[31m✖\u001b[39m \u001b[34mdplyr\u001b[39m::\u001b[32mlag()\u001b[39m    masks \u001b[34mstats\u001b[39m::lag()\n",
      "\n",
      "Warning message:\n",
      "“package ‘broom’ was built under R version 4.1.3”\n",
      "Warning message:\n",
      "“package ‘readxl’ was built under R version 4.1.3”\n"
     ]
    }
   ],
   "source": [
    "# library(cowplot)\n",
    "# library(datateachr)\n",
    "library(digest)\n",
    "library(infer)\n",
    "library(repr)\n",
    "# library(taxyvr)\n",
    "library(tidyverse)\n",
    "library(broom)\n",
    "library(digest)\n",
    "library(readxl)"
   ]
  },
  {
   "cell_type": "code",
   "execution_count": 20,
   "id": "5a63047b-966c-497e-9baf-bab8606998f0",
   "metadata": {},
   "outputs": [
    {
     "name": "stderr",
     "output_type": "stream",
     "text": [
      "\u001b[1mRows: \u001b[22m\u001b[34m8400\u001b[39m \u001b[1mColumns: \u001b[22m\u001b[34m18\u001b[39m\n",
      "\u001b[36m──\u001b[39m \u001b[1mColumn specification\u001b[22m \u001b[36m────────────────────────────────────────────────────────\u001b[39m\n",
      "\u001b[1mDelimiter:\u001b[22m \",\"\n",
      "\u001b[32mdbl\u001b[39m (18): studentID, school, gradelevel, gender, covidpos, householdincome, ...\n",
      "\n",
      "\u001b[36mℹ\u001b[39m Use `spec()` to retrieve the full column specification for this data.\n",
      "\u001b[36mℹ\u001b[39m Specify the column types or set `show_col_types = FALSE` to quiet this message.\n"
     ]
    },
    {
     "data": {
      "text/html": [
       "<table class=\"dataframe\">\n",
       "<caption>A tibble: 6 × 18</caption>\n",
       "<thead>\n",
       "\t<tr><th scope=col>studentID</th><th scope=col>school</th><th scope=col>gradelevel</th><th scope=col>gender</th><th scope=col>covidpos</th><th scope=col>householdincome</th><th scope=col>freelunch</th><th scope=col>numcomputers</th><th scope=col>familysize</th><th scope=col>fathereduc</th><th scope=col>mothereduc</th><th scope=col>readingscore</th><th scope=col>writingscore</th><th scope=col>mathscore</th><th scope=col>readingscoreSL</th><th scope=col>writingscoreSL</th><th scope=col>mathscoreSL</th><th scope=col>timeperiod</th></tr>\n",
       "\t<tr><th scope=col>&lt;dbl&gt;</th><th scope=col>&lt;dbl&gt;</th><th scope=col>&lt;dbl&gt;</th><th scope=col>&lt;dbl&gt;</th><th scope=col>&lt;dbl&gt;</th><th scope=col>&lt;dbl&gt;</th><th scope=col>&lt;dbl&gt;</th><th scope=col>&lt;dbl&gt;</th><th scope=col>&lt;dbl&gt;</th><th scope=col>&lt;dbl&gt;</th><th scope=col>&lt;dbl&gt;</th><th scope=col>&lt;dbl&gt;</th><th scope=col>&lt;dbl&gt;</th><th scope=col>&lt;dbl&gt;</th><th scope=col>&lt;dbl&gt;</th><th scope=col>&lt;dbl&gt;</th><th scope=col>&lt;dbl&gt;</th><th scope=col>&lt;dbl&gt;</th></tr>\n",
       "</thead>\n",
       "<tbody>\n",
       "\t<tr><td>1</td><td>0</td><td>6</td><td>1</td><td>1</td><td>59065</td><td>0</td><td>5</td><td>3</td><td>1</td><td>0</td><td>73</td><td>69</td><td>87</td><td>85</td><td>83</td><td>71</td><td>2</td></tr>\n",
       "\t<tr><td>1</td><td>0</td><td>6</td><td>1</td><td>1</td><td>59065</td><td>0</td><td>5</td><td>3</td><td>1</td><td>0</td><td>63</td><td>73</td><td>57</td><td>78</td><td>75</td><td>58</td><td>4</td></tr>\n",
       "\t<tr><td>1</td><td>0</td><td>6</td><td>1</td><td>1</td><td>59065</td><td>0</td><td>5</td><td>3</td><td>1</td><td>0</td><td>80</td><td>67</td><td>57</td><td>88</td><td>80</td><td>85</td><td>1</td></tr>\n",
       "\t<tr><td>1</td><td>0</td><td>6</td><td>1</td><td>1</td><td>59065</td><td>0</td><td>5</td><td>3</td><td>1</td><td>0</td><td>69</td><td>56</td><td>74</td><td>70</td><td>48</td><td>87</td><td>3</td></tr>\n",
       "\t<tr><td>1</td><td>0</td><td>6</td><td>1</td><td>1</td><td>59065</td><td>0</td><td>5</td><td>3</td><td>1</td><td>0</td><td>83</td><td>87</td><td>65</td><td>69</td><td>86</td><td>66</td><td>0</td></tr>\n",
       "\t<tr><td>1</td><td>0</td><td>6</td><td>1</td><td>1</td><td>59065</td><td>0</td><td>5</td><td>3</td><td>1</td><td>0</td><td>62</td><td>37</td><td>63</td><td>82</td><td>78</td><td>85</td><td>5</td></tr>\n",
       "</tbody>\n",
       "</table>\n"
      ],
      "text/latex": [
       "A tibble: 6 × 18\n",
       "\\begin{tabular}{llllllllllllllllll}\n",
       " studentID & school & gradelevel & gender & covidpos & householdincome & freelunch & numcomputers & familysize & fathereduc & mothereduc & readingscore & writingscore & mathscore & readingscoreSL & writingscoreSL & mathscoreSL & timeperiod\\\\\n",
       " <dbl> & <dbl> & <dbl> & <dbl> & <dbl> & <dbl> & <dbl> & <dbl> & <dbl> & <dbl> & <dbl> & <dbl> & <dbl> & <dbl> & <dbl> & <dbl> & <dbl> & <dbl>\\\\\n",
       "\\hline\n",
       "\t 1 & 0 & 6 & 1 & 1 & 59065 & 0 & 5 & 3 & 1 & 0 & 73 & 69 & 87 & 85 & 83 & 71 & 2\\\\\n",
       "\t 1 & 0 & 6 & 1 & 1 & 59065 & 0 & 5 & 3 & 1 & 0 & 63 & 73 & 57 & 78 & 75 & 58 & 4\\\\\n",
       "\t 1 & 0 & 6 & 1 & 1 & 59065 & 0 & 5 & 3 & 1 & 0 & 80 & 67 & 57 & 88 & 80 & 85 & 1\\\\\n",
       "\t 1 & 0 & 6 & 1 & 1 & 59065 & 0 & 5 & 3 & 1 & 0 & 69 & 56 & 74 & 70 & 48 & 87 & 3\\\\\n",
       "\t 1 & 0 & 6 & 1 & 1 & 59065 & 0 & 5 & 3 & 1 & 0 & 83 & 87 & 65 & 69 & 86 & 66 & 0\\\\\n",
       "\t 1 & 0 & 6 & 1 & 1 & 59065 & 0 & 5 & 3 & 1 & 0 & 62 & 37 & 63 & 82 & 78 & 85 & 5\\\\\n",
       "\\end{tabular}\n"
      ],
      "text/markdown": [
       "\n",
       "A tibble: 6 × 18\n",
       "\n",
       "| studentID &lt;dbl&gt; | school &lt;dbl&gt; | gradelevel &lt;dbl&gt; | gender &lt;dbl&gt; | covidpos &lt;dbl&gt; | householdincome &lt;dbl&gt; | freelunch &lt;dbl&gt; | numcomputers &lt;dbl&gt; | familysize &lt;dbl&gt; | fathereduc &lt;dbl&gt; | mothereduc &lt;dbl&gt; | readingscore &lt;dbl&gt; | writingscore &lt;dbl&gt; | mathscore &lt;dbl&gt; | readingscoreSL &lt;dbl&gt; | writingscoreSL &lt;dbl&gt; | mathscoreSL &lt;dbl&gt; | timeperiod &lt;dbl&gt; |\n",
       "|---|---|---|---|---|---|---|---|---|---|---|---|---|---|---|---|---|---|\n",
       "| 1 | 0 | 6 | 1 | 1 | 59065 | 0 | 5 | 3 | 1 | 0 | 73 | 69 | 87 | 85 | 83 | 71 | 2 |\n",
       "| 1 | 0 | 6 | 1 | 1 | 59065 | 0 | 5 | 3 | 1 | 0 | 63 | 73 | 57 | 78 | 75 | 58 | 4 |\n",
       "| 1 | 0 | 6 | 1 | 1 | 59065 | 0 | 5 | 3 | 1 | 0 | 80 | 67 | 57 | 88 | 80 | 85 | 1 |\n",
       "| 1 | 0 | 6 | 1 | 1 | 59065 | 0 | 5 | 3 | 1 | 0 | 69 | 56 | 74 | 70 | 48 | 87 | 3 |\n",
       "| 1 | 0 | 6 | 1 | 1 | 59065 | 0 | 5 | 3 | 1 | 0 | 83 | 87 | 65 | 69 | 86 | 66 | 0 |\n",
       "| 1 | 0 | 6 | 1 | 1 | 59065 | 0 | 5 | 3 | 1 | 0 | 62 | 37 | 63 | 82 | 78 | 85 | 5 |\n",
       "\n"
      ],
      "text/plain": [
       "  studentID school gradelevel gender covidpos householdincome freelunch\n",
       "1 1         0      6          1      1        59065           0        \n",
       "2 1         0      6          1      1        59065           0        \n",
       "3 1         0      6          1      1        59065           0        \n",
       "4 1         0      6          1      1        59065           0        \n",
       "5 1         0      6          1      1        59065           0        \n",
       "6 1         0      6          1      1        59065           0        \n",
       "  numcomputers familysize fathereduc mothereduc readingscore writingscore\n",
       "1 5            3          1          0          73           69          \n",
       "2 5            3          1          0          63           73          \n",
       "3 5            3          1          0          80           67          \n",
       "4 5            3          1          0          69           56          \n",
       "5 5            3          1          0          83           87          \n",
       "6 5            3          1          0          62           37          \n",
       "  mathscore readingscoreSL writingscoreSL mathscoreSL timeperiod\n",
       "1 87        85             83             71          2         \n",
       "2 57        78             75             58          4         \n",
       "3 57        88             80             85          1         \n",
       "4 74        70             48             87          3         \n",
       "5 65        69             86             66          0         \n",
       "6 63        82             78             85          5         "
      ]
     },
     "metadata": {},
     "output_type": "display_data"
    }
   ],
   "source": [
    "url <- \"https://raw.githubusercontent.com/dylanc9918/STAT_201_Project/main/COVID_data_csv.csv\"\n",
    "\n",
    "covid <- \n",
    "    read_csv(url)\n",
    "head(covid)"
   ]
  },
  {
   "cell_type": "code",
   "execution_count": 21,
   "id": "544cd4a0-a015-4689-ad76-9a5f99685d69",
   "metadata": {},
   "outputs": [
    {
     "name": "stderr",
     "output_type": "stream",
     "text": [
      "\u001b[1m\u001b[22m`summarise()` has grouped output by 'studentID'. You can override using the\n",
      "`.groups` argument.\n"
     ]
    },
    {
     "data": {
      "text/html": [
       "<table class=\"dataframe\">\n",
       "<caption>A grouped_df: 6 × 3</caption>\n",
       "<thead>\n",
       "\t<tr><th scope=col>studentID</th><th scope=col>timeperiod</th><th scope=col>meanscore</th></tr>\n",
       "\t<tr><th scope=col>&lt;dbl&gt;</th><th scope=col>&lt;int&gt;</th><th scope=col>&lt;dbl&gt;</th></tr>\n",
       "</thead>\n",
       "<tbody>\n",
       "\t<tr><td>1</td><td>0</td><td>79.22222</td></tr>\n",
       "\t<tr><td>1</td><td>1</td><td>73.44444</td></tr>\n",
       "\t<tr><td>2</td><td>0</td><td>73.11111</td></tr>\n",
       "\t<tr><td>2</td><td>1</td><td>64.44444</td></tr>\n",
       "\t<tr><td>3</td><td>0</td><td>82.55556</td></tr>\n",
       "\t<tr><td>3</td><td>1</td><td>66.88889</td></tr>\n",
       "</tbody>\n",
       "</table>\n"
      ],
      "text/latex": [
       "A grouped\\_df: 6 × 3\n",
       "\\begin{tabular}{lll}\n",
       " studentID & timeperiod & meanscore\\\\\n",
       " <dbl> & <int> & <dbl>\\\\\n",
       "\\hline\n",
       "\t 1 & 0 & 79.22222\\\\\n",
       "\t 1 & 1 & 73.44444\\\\\n",
       "\t 2 & 0 & 73.11111\\\\\n",
       "\t 2 & 1 & 64.44444\\\\\n",
       "\t 3 & 0 & 82.55556\\\\\n",
       "\t 3 & 1 & 66.88889\\\\\n",
       "\\end{tabular}\n"
      ],
      "text/markdown": [
       "\n",
       "A grouped_df: 6 × 3\n",
       "\n",
       "| studentID &lt;dbl&gt; | timeperiod &lt;int&gt; | meanscore &lt;dbl&gt; |\n",
       "|---|---|---|\n",
       "| 1 | 0 | 79.22222 |\n",
       "| 1 | 1 | 73.44444 |\n",
       "| 2 | 0 | 73.11111 |\n",
       "| 2 | 1 | 64.44444 |\n",
       "| 3 | 0 | 82.55556 |\n",
       "| 3 | 1 | 66.88889 |\n",
       "\n"
      ],
      "text/plain": [
       "  studentID timeperiod meanscore\n",
       "1 1         0          79.22222 \n",
       "2 1         1          73.44444 \n",
       "3 2         0          73.11111 \n",
       "4 2         1          64.44444 \n",
       "5 3         0          82.55556 \n",
       "6 3         1          66.88889 "
      ]
     },
     "metadata": {},
     "output_type": "display_data"
    },
    {
     "data": {
      "text/html": [
       "<table class=\"dataframe\">\n",
       "<caption>A tibble: 2 × 2</caption>\n",
       "<thead>\n",
       "\t<tr><th scope=col>timeperiod</th><th scope=col>mean</th></tr>\n",
       "\t<tr><th scope=col>&lt;int&gt;</th><th scope=col>&lt;dbl&gt;</th></tr>\n",
       "</thead>\n",
       "<tbody>\n",
       "\t<tr><td>0</td><td>75.70167</td></tr>\n",
       "\t<tr><td>1</td><td>67.69460</td></tr>\n",
       "</tbody>\n",
       "</table>\n"
      ],
      "text/latex": [
       "A tibble: 2 × 2\n",
       "\\begin{tabular}{ll}\n",
       " timeperiod & mean\\\\\n",
       " <int> & <dbl>\\\\\n",
       "\\hline\n",
       "\t 0 & 75.70167\\\\\n",
       "\t 1 & 67.69460\\\\\n",
       "\\end{tabular}\n"
      ],
      "text/markdown": [
       "\n",
       "A tibble: 2 × 2\n",
       "\n",
       "| timeperiod &lt;int&gt; | mean &lt;dbl&gt; |\n",
       "|---|---|\n",
       "| 0 | 75.70167 |\n",
       "| 1 | 67.69460 |\n",
       "\n"
      ],
      "text/plain": [
       "  timeperiod mean    \n",
       "1 0          75.70167\n",
       "2 1          67.69460"
      ]
     },
     "metadata": {},
     "output_type": "display_data"
    },
    {
     "data": {
      "image/png": "[encoded data removed]",
      "text/plain": [
       "plot without title"
      ]
     },
     "metadata": {
      "image/png": {
       "height": 420,
       "width": 420
      }
     },
     "output_type": "display_data"
    }
   ],
   "source": [
    "covid_n <- covid %>%\n",
    "mutate(timeperiod = as.integer(timeperiod / 3))%>%\n",
    "select(\"studentID\", \"readingscoreSL\", \"writingscoreSL\", \"mathscoreSL\", \"timeperiod\")%>%\n",
    "mutate(scoresumSL = (readingscoreSL + writingscoreSL + mathscoreSL)/3)%>%\n",
    "group_by(studentID, timeperiod)%>%\n",
    "summarize(meanscore = mean(scoresumSL))\n",
    "head(covid_n)\n",
    "\n",
    "covid_summarize <- covid_n%>%\n",
    "group_by(timeperiod)%>%\n",
    "summarize(mean = mean(meanscore))\n",
    "covid_summarize\n",
    "\n",
    "\n",
    "covid_samp_dist_plot <- \n",
    "    covid_n %>% \n",
    "    ggplot() + \n",
    "    geom_histogram(aes(x = meanscore), binwidth = 2) +\n",
    "    facet_wrap(~ timeperiod\t) + \n",
    "    xlab(\"Score\")+\n",
    "    ggtitle(\"COVID Plot\")+\n",
    "    theme(text = element_text(size = 22))\n",
    "covid_samp_dist_plot\n"
   ]
  },
  {
   "cell_type": "code",
   "execution_count": null,
   "id": "7ac3a16e-6199-497b-83af-83f3a4803c9c",
   "metadata": {},
   "outputs": [],
   "source": []
  },
  {
   "cell_type": "code",
   "execution_count": null,
   "id": "6285f63a-9a5e-4ce0-8919-fd85bb3d93f0",
   "metadata": {},
   "outputs": [],
   "source": []
  },
  {
   "cell_type": "code",
   "execution_count": null,
   "id": "785ec096-8d44-4e9b-9640-bc1b1dd1c945",
   "metadata": {},
   "outputs": [],
   "source": []
  }
 ],
 "metadata": {
  "kernelspec": {
   "display_name": "R",
   "language": "R",
   "name": "ir"
  },
  "language_info": {
   "codemirror_mode": "r",
   "file_extension": ".r",
   "mimetype": "text/x-r-source",
   "name": "R",
   "pygments_lexer": "r",
   "version": "4.1.1"
  }
 },
 "nbformat": 4,
 "nbformat_minor": 5
}
